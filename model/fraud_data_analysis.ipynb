{
 "cells": [
  {
   "cell_type": "markdown",
   "id": "02c3c12a",
   "metadata": {},
   "source": [
    "# Fraud Detection - Data Analysis and Preprocessing\n",
    "\n",
    "This notebook focuses on Phase 2 (Data Understanding & Exploration) and Phase 3 (Data Preprocessing & Feature Engineering) of our fraud detection project.\n",
    "\n",
    "## Phase 2: Data Understanding & Exploration\n",
    "- Load and explore dataset\n",
    "- Analyze class distribution\n",
    "- Check for missing values\n",
    "- Visualize key patterns\n",
    "- Document findings\n",
    "\n",
    "## Phase 3: Data Preprocessing & Feature Engineering\n",
    "- Clean data and handle missing values\n",
    "- Feature engineering\n",
    "- Address class imbalance\n",
    "- Prepare train/test splits"
   ]
  },
  {
   "cell_type": "markdown",
   "id": "119609a5",
   "metadata": {},
   "source": [
    "## Setup and Import Dependencies"
   ]
  },
  {
   "cell_type": "code",
   "execution_count": null,
   "id": "aef3e36f",
   "metadata": {},
   "outputs": [],
   "source": [
    "# Import required libraries\n",
    "import numpy as np\n",
    "import pandas as pd\n",
    "import matplotlib.pyplot as plt\n",
    "import seaborn as sns\n",
    "from datetime import datetime\n",
    "\n",
    "# For preprocessing\n",
    "from sklearn.preprocessing import StandardScaler, LabelEncoder\n",
    "from sklearn.model_selection import train_test_split\n",
    "from imblearn.over_sampling import SMOTE\n",
    "\n",
    "# Set style for visualizations\n",
    "plt.style.use('seaborn')\n",
    "sns.set_palette(\"husl\")\n",
    "\n",
    "# Display settings for pandas\n",
    "pd.set_option('display.max_columns', None)\n",
    "pd.set_option('display.float_format', lambda x: '%.3f' % x)\n",
    "\n",
    "print(\"Libraries imported successfully!\")"
   ]
  },
  {
   "cell_type": "markdown",
   "id": "f4abff19",
   "metadata": {},
   "source": [
    "## Load and Explore Dataset\n",
    "\n",
    "Let's load our fraud detection dataset and perform initial exploration."
   ]
  }
 ],
 "metadata": {
  "language_info": {
   "name": "python"
  }
 },
 "nbformat": 4,
 "nbformat_minor": 5
}
